{
 "cells": [
  {
   "cell_type": "markdown",
   "metadata": {},
   "source": [
    "# Creando un diccionario con datos"
   ]
  },
  {
   "cell_type": "code",
   "execution_count": 7,
   "metadata": {},
   "outputs": [],
   "source": [
    "paises = {\"HN\": \"Honduras\", \"MX\": \"Mexico\"}"
   ]
  },
  {
   "cell_type": "code",
   "execution_count": 8,
   "metadata": {},
   "outputs": [
    {
     "name": "stdout",
     "output_type": "stream",
     "text": [
      "Honduras\n",
      "Mexico\n",
      "Pais no encontrado\n"
     ]
    }
   ],
   "source": [
    "print(paises.get(\"HN\"))\n",
    "print(paises.get(\"MX\", \"Pais no encontrado\"))\n",
    "print(paises.get(\"ES\", \"Pais no encontrado\")) # si no encuentra la llave retorna el texto en el segundo parametro"
   ]
  },
  {
   "cell_type": "markdown",
   "metadata": {},
   "source": [
    "# Modificar un elemento"
   ]
  },
  {
   "cell_type": "code",
   "execution_count": 11,
   "metadata": {},
   "outputs": [
    {
     "name": "stdout",
     "output_type": "stream",
     "text": [
      "{'HN': 'Honolulu', 'MX': 'Mexico', 'NI': 'Nicaragua', 'Al': 'Alemania'}\n"
     ]
    }
   ],
   "source": [
    "paises[\"HN\"] = 'Honolulu' # Como la key ya existe la actuaiza.\n",
    "paises[\"NI\"] = 'Nicaragua' # Como la key no existe la añade.\n",
    "paises[\"Al\"] = 'Alemania' # Añadiendo a alemania.\n",
    "print(paises)"
   ]
  },
  {
   "cell_type": "markdown",
   "metadata": {},
   "source": [
    "# Remover elementos"
   ]
  },
  {
   "cell_type": "code",
   "execution_count": 12,
   "metadata": {},
   "outputs": [
    {
     "name": "stdout",
     "output_type": "stream",
     "text": [
      "{'HN': 'Honolulu', 'MX': 'Mexico', 'NI': 'Nicaragua'}\n"
     ]
    }
   ],
   "source": [
    "del paises[\"Al\"] # Elimina la llave seleccionada\n",
    "print(paises)"
   ]
  },
  {
   "cell_type": "code",
   "execution_count": 13,
   "metadata": {},
   "outputs": [
    {
     "name": "stdout",
     "output_type": "stream",
     "text": [
      "('NI', 'Nicaragua')\n"
     ]
    }
   ],
   "source": [
    "tupla = paises.popitem() # Elimina mediante LIFO (ultimo en entrar primero en salir)\"Pila\"\n",
    "print(tupla)"
   ]
  },
  {
   "cell_type": "markdown",
   "metadata": {},
   "source": [
    "## Uso de Diccionario"
   ]
  },
  {
   "cell_type": "code",
   "execution_count": 1,
   "metadata": {},
   "outputs": [
    {
     "name": "stdout",
     "output_type": "stream",
     "text": [
      "ZE Zelda\n",
      "COD Call Of Duty\n",
      "GTA Grand The Auto\n",
      "PK Pokemon\n",
      "ER Elde Ring\n"
     ]
    }
   ],
   "source": [
    "juegos = {\n",
    "    \"ZE\": \"Zelda\",\n",
    "    \"COD\": \"Call Of Duty\",\n",
    "    \"GTA\": \"Grand The Auto\",\n",
    "    \"PK\": \"Pokemon\",\n",
    "    \"ER\": \"Elde Ring\",\n",
    "}\n",
    "\n",
    "# itera las key y lego buscamos la key en el diccionario.\n",
    "for elemento in juegos:\n",
    "    print(elemento, juegos[elemento])"
   ]
  },
  {
   "cell_type": "markdown",
   "metadata": {},
   "source": [
    "# Imprimiendo todos los Valores y keys"
   ]
  },
  {
   "cell_type": "code",
   "execution_count": 22,
   "metadata": {},
   "outputs": [
    {
     "name": "stdout",
     "output_type": "stream",
     "text": [
      "ZE Zelda\n",
      "COD Call Of Duty\n",
      "GTA Grand The Auto\n",
      "PK Pokemon\n",
      "ER Elde Ring\n"
     ]
    }
   ],
   "source": [
    "# Iterando key y valor\n",
    "for key, value in juegos.items():\n",
    "    print(key, value)"
   ]
  },
  {
   "cell_type": "code",
   "execution_count": 23,
   "metadata": {},
   "outputs": [
    {
     "name": "stdout",
     "output_type": "stream",
     "text": [
      "['ZE', 'COD', 'GTA', 'PK', 'ER']\n"
     ]
    }
   ],
   "source": [
    "print(list(juegos.keys()))"
   ]
  },
  {
   "cell_type": "code",
   "execution_count": 26,
   "metadata": {},
   "outputs": [
    {
     "name": "stdout",
     "output_type": "stream",
     "text": [
      "['Zelda', 'Call Of Duty', 'Grand The Auto', 'Pokemon', 'Elde Ring']\n"
     ]
    }
   ],
   "source": [
    "print(list(juegos.values()))"
   ]
  },
  {
   "cell_type": "code",
   "execution_count": 35,
   "metadata": {},
   "outputs": [
    {
     "name": "stdout",
     "output_type": "stream",
     "text": [
      "['ZE', 'COD', 'GTA', 'PK', 'ER']\n"
     ]
    }
   ],
   "source": [
    "print(list(juegos.keys()))"
   ]
  },
  {
   "cell_type": "code",
   "execution_count": 36,
   "metadata": {},
   "outputs": [
    {
     "name": "stdout",
     "output_type": "stream",
     "text": [
      "{'ZE': 'Zelda', 'COD': 'Call Of Duty', 'GTA': 'Grand The Auto', 'PK': 'Pokemon', 'ER': 'Elde Ring'}\n"
     ]
    }
   ],
   "source": [
    "print(juegos)"
   ]
  }
 ],
 "metadata": {
  "kernelspec": {
   "display_name": "Python 3",
   "language": "python",
   "name": "python3"
  },
  "language_info": {
   "codemirror_mode": {
    "name": "ipython",
    "version": 3
   },
   "file_extension": ".py",
   "mimetype": "text/x-python",
   "name": "python",
   "nbconvert_exporter": "python",
   "pygments_lexer": "ipython3",
   "version": "3.10.12"
  }
 },
 "nbformat": 4,
 "nbformat_minor": 2
}
