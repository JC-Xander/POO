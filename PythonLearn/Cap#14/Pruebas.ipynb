{
 "cells": [
  {
   "cell_type": "markdown",
   "metadata": {},
   "source": [
    "- Diferentes formar de invocar un elemento de una lista."
   ]
  },
  {
   "cell_type": "code",
   "execution_count": 1,
   "metadata": {},
   "outputs": [
    {
     "name": "stdout",
     "output_type": "stream",
     "text": [
      "chuck\n",
      "chuck\n",
      "chuck\n"
     ]
    }
   ],
   "source": [
    "cosa = list()\n",
    "cosa.append('python')\n",
    "cosa.append('chuck')\n",
    "cosa.sort()\n",
    "print (cosa[0])\n",
    "print (cosa.__getitem__(0))\n",
    "print (list.__getitem__(cosa,0))"
   ]
  }
 ],
 "metadata": {
  "kernelspec": {
   "display_name": "Python 3",
   "language": "python",
   "name": "python3"
  },
  "language_info": {
   "codemirror_mode": {
    "name": "ipython",
    "version": 3
   },
   "file_extension": ".py",
   "mimetype": "text/x-python",
   "name": "python",
   "nbconvert_exporter": "python",
   "pygments_lexer": "ipython3",
   "version": "3.10.12"
  }
 },
 "nbformat": 4,
 "nbformat_minor": 2
}
